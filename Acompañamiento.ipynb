{
  "nbformat": 4,
  "nbformat_minor": 0,
  "metadata": {
    "colab": {
      "provenance": [],
      "include_colab_link": true
    },
    "kernelspec": {
      "name": "python3",
      "display_name": "Python 3"
    },
    "language_info": {
      "name": "python"
    }
  },
  "cells": [
    {
      "cell_type": "markdown",
      "metadata": {
        "id": "view-in-github",
        "colab_type": "text"
      },
      "source": [
        "<a href=\"https://colab.research.google.com/github/MarcelaOlarte/Trabajo-de-acompa-amiento/blob/main/Acompa%C3%B1amiento.ipynb\" target=\"_parent\"><img src=\"https://colab.research.google.com/assets/colab-badge.svg\" alt=\"Open In Colab\"/></a>"
      ]
    },
    {
      "cell_type": "code",
      "source": [
        "import pandas as pd\n",
        "import numpy as np\n",
        "import matplotlib.pyplot as plt\n",
        "import seaborn as sns\n",
        "\n",
        "# URL del dataset\n",
        "url_json = \"https://www.datos.gov.co/resource/4iz7-suhz.json\"\n",
        "\n",
        "# Lista de enfermedades que vamos a analizar\n",
        "enfermedades = [\n",
        "    \"artritis\", \"diabetes\", \"hipertensi_n\", \"epoc\", \"asma\",\n",
        "    \"insuficiencia_cardiaca\", \"c_ncer\"\n",
        "]\n",
        "\n",
        "# Cambiamos valores 1/2 a Sí/No\n",
        "df[enfermedades] = df[enfermedades].replace({1: \"Sí\", 2: \"No\"})\n",
        "\n",
        "# Unimos datos en formato largo (melt)\n",
        "df_melt = df.melt(\n",
        "    id_vars=[\"sexo\"],\n",
        "    value_vars=enfermedades,\n",
        "    var_name=\"Enfermedad\",\n",
        "    value_name=\"Respuesta\"\n",
        ")\n",
        "\n",
        "# Conteo por Sexo, Enfermedad y Respuesta\n",
        "tabla_resumen = df_melt.groupby([\"sexo\", \"Enfermedad\", \"Respuesta\"]).size().reset_index(name=\"Cantidad\")\n",
        "\n",
        "# Pivot para que Sí y No queden en columnas separadas\n",
        "tabla_pivot = tabla_resumen.pivot_table(\n",
        "    index=[\"sexo\", \"Enfermedad\"],\n",
        "    columns=\"Respuesta\",\n",
        "    values=\"Cantidad\",\n",
        "    fill_value=0\n",
        ").reset_index()\n",
        "\n",
        "tabla_pivot_limpia = tabla_pivot[tabla_pivot[\"sexo\"].isin([\"FEMENINO\", \"MASCULINO\"])]\n",
        "print(tabla_pivot_limpia)"
      ],
      "metadata": {
        "id": "Z3cEOT53HWXs"
      },
      "execution_count": null,
      "outputs": []
    },
    {
      "cell_type": "code",
      "execution_count": null,
      "metadata": {
        "id": "5vlGdQDlarXi"
      },
      "outputs": [],
      "source": [
        "import pandas as pd\n",
        "\n",
        "# Cargar datos\n",
        "url_json = \"https://www.datos.gov.co/resource/4iz7-suhz.json\"\n",
        "df = pd.read_json(url_json)\n",
        "\n",
        "# Función para clasificar riesgo\n",
        "def clasificar_riesgo(row):\n",
        "    if row['hipertensi_n'] == 1 or row['diabetes'] == 1:\n",
        "        return 'ALTO'\n",
        "    else:\n",
        "        return 'BAJO'\n",
        "\n",
        "df['riesgo_cardiovascular'] = df.apply(clasificar_riesgo, axis=1)\n",
        "\n",
        "# Contar por sexo y riesgo\n",
        "conteo_riesgo_sexo = df.groupby(['sexo', 'riesgo_cardiovascular']).size().reset_index(name='conteo')\n",
        "\n",
        "print(conteo_riesgo_sexo)"
      ]
    },
    {
      "cell_type": "code",
      "source": [
        "# Filtrar personas mayores de 60 años con hipertensión (hipertensi_n == 1)\n",
        "mayores_hipertensos = df[\n",
        "    (df['grupo_etareo'] == '60 Y MAS') &\n",
        "    (df['hipertensi_n'] == 1)\n",
        "]\n",
        "\n",
        "mayores_hipertensos"
      ],
      "metadata": {
        "id": "IEnAjEcZD39V"
      },
      "execution_count": null,
      "outputs": []
    },
    {
      "cell_type": "code",
      "source": [],
      "metadata": {
        "id": "sKiqTG_AHTpD"
      },
      "execution_count": null,
      "outputs": []
    },
    {
      "cell_type": "code",
      "source": [
        "# Columnas de enfermedades\n",
        "enfermedades_cols = ['artritis','diabetes','hipertensi_n','epoc','asma','insuficiencia_cardiaca',\n",
        "                     'c_ncer','huerfanas_hemofilias_y_otras','cirugia_cardiaca','trasplantados']\n",
        "\n",
        "# Convertir 2 → 0 y 1 → 1 para poder operar\n",
        "df_enfermedades = df[enfermedades_cols].replace({2:0, 1:1})\n",
        "\n",
        "# Crear columna total de enfermedades por persona\n",
        "df['total_enfermedades'] = df_enfermedades.sum(axis=1)\n",
        "\n",
        "# Agrupar por sexo y grupo_etareo\n",
        "df_agrupado = df.groupby(['sexo','grupo_etareo']).agg(\n",
        "    n_personas=('total_enfermedades','count'),\n",
        "    promedio_enfermedades=('total_enfermedades','mean'),\n",
        "    total_enfermedades=('total_enfermedades','sum')\n",
        ").reset_index()\n",
        "\n",
        "# Redondear promedio\n",
        "df_agrupado['promedio_enfermedades'] = df_agrupado['promedio_enfermedades'].round(2)\n",
        "\n",
        "# Mostrar resultados\n",
        "df_agrupado"
      ],
      "metadata": {
        "id": "h97J4rmJEB6G"
      },
      "execution_count": null,
      "outputs": []
    },
    {
      "cell_type": "code",
      "source": [
        "# Lista de columnas de enfermedades\n",
        "cols_enfermedades = [\n",
        "    'artritis', 'diabetes', 'hipertensi_n', 'epoc', 'asma',\n",
        "    'insuficiencia_cardiaca', 'c_ncer', 'huerfanas_hemofilias_y_otras',\n",
        "    'cirugia_cardiaca', 'trasplantados'\n",
        "]\n",
        "\n",
        "# Contar cuántas personas tienen cada enfermedad (valor 1 = Sí)\n",
        "conteo_enfermedades = df[cols_enfermedades].apply(lambda x: (x == 1).sum()).sort_values(ascending=False)\n",
        "\n",
        "# Convertir a DataFrame para ver mejor\n",
        "tabla_enfermedades_ordenada = conteo_enfermedades.reset_index()\n",
        "tabla_enfermedades_ordenada.columns = ['Enfermedad', 'Numero_personas']\n",
        "\n",
        "tabla_enfermedades_ordenada"
      ],
      "metadata": {
        "id": "XXRWiZTTFi7S"
      },
      "execution_count": null,
      "outputs": []
    },
    {
      "cell_type": "code",
      "source": [
        "import pandas as pd\n",
        "import seaborn as sns\n",
        "import matplotlib.pyplot as plt\n",
        "\n",
        "# Contar por sexo y riesgo cardiovascular\n",
        "conteo_riesgo_sexo = df.groupby(['sexo', 'riesgo_cardiovascular']).size().reset_index(name='conteo')\n",
        "\n",
        "# Gráfico de barras\n",
        "plt.figure(figsize=(8,5))\n",
        "sns.barplot(data=conteo_riesgo_sexo,\n",
        "            x='sexo',\n",
        "            y='conteo',\n",
        "            hue='riesgo_cardiovascular',\n",
        "            palette='Set2')\n",
        "\n",
        "plt.title(\"Riesgo cardiovascular por sexo\")\n",
        "plt.ylabel(\"Número de personas\")\n",
        "plt.xlabel(\"Sexo\")\n",
        "plt.legend(title=\"Riesgo\")\n",
        "plt.show()\n"
      ],
      "metadata": {
        "id": "Om5-qxIyIA_6"
      },
      "execution_count": null,
      "outputs": []
    },
    {
      "cell_type": "code",
      "source": [
        "\n",
        "import pandas as pd\n",
        "import seaborn as sns\n",
        "import matplotlib.pyplot as plt\n",
        "\n",
        "# Cargar datos desde la URL\n",
        "url_json = \"https://www.datos.gov.co/resource/4iz7-suhz.json\"\n",
        "df = pd.read_json(url_json)\n",
        "\n",
        "# Normalizar columna 'sexo'\n",
        "df['sexo'] = df['sexo'].str.strip().str.upper()\n",
        "\n",
        "# Lista de columnas de enfermedades\n",
        "enfermedades_cols = [\n",
        "    'artritis','diabetes','hipertensi_n','epoc','asma',\n",
        "    'insuficiencia_cardiaca','c_ncer','huerfanas_hemofilias_y_otras',\n",
        "    'cirugia_cardiaca','trasplantados'\n",
        "]\n",
        "\n",
        "# Convertir a 1 = Sí, 0 = No\n",
        "for col in enfermedades_cols:\n",
        "    df[col] = df[col].apply(lambda x: 1 if x == 1 else 0)\n",
        "\n",
        "# Sumar por sexo\n",
        "df_enf_sexo = df.groupby('sexo', dropna=False)[enfermedades_cols].sum().reset_index()\n",
        "\n",
        "# Pasar a formato largo para Seaborn\n",
        "df_enf_long = df_enf_sexo.melt(\n",
        "    id_vars='sexo',\n",
        "    value_vars=enfermedades_cols,\n",
        "    var_name='Enfermedad',\n",
        "    value_name='Número de personas'\n",
        ")\n",
        "\n",
        "# Gráfico de barras\n",
        "plt.figure(figsize=(12,6))\n",
        "sns.barplot(\n",
        "    data=df_enf_long,\n",
        "    x='Enfermedad',\n",
        "    y='Número de personas',\n",
        "    hue='sexo',\n",
        "     palette=['#6a0dad', '#2ecc71', '#e74c3c']  # morado, verde, rojo\n",
        ")\n",
        "plt.title(\"Distribución de enfermedades por sexo\")\n",
        "plt.ylabel(\"Número de personas\")\n",
        "plt.xlabel(\"Enfermedad\")\n",
        "plt.xticks(rotation=45)\n",
        "plt.legend(title=\"Sexo\")\n",
        "plt.show()"
      ],
      "metadata": {
        "id": "6tgG6CyhLGzG"
      },
      "execution_count": null,
      "outputs": []
    },
    {
      "cell_type": "code",
      "source": [
        "import pandas as pd\n",
        "import matplotlib.pyplot as plt\n",
        "import seaborn as sns\n",
        "\n",
        "# Lista de columnas de enfermedades\n",
        "enfermedades_cols = ['artritis','diabetes','hipertensi_n','epoc','asma',\n",
        "                     'insuficiencia_cardiaca','c_ncer','huerfanas_hemofilias_y_otras',\n",
        "                     'cirugia_cardiaca','trasplantados']\n",
        "\n",
        "# Copiar base original\n",
        "df_ciclo = df.copy()\n",
        "\n",
        "# Convertir enfermedades a 1 = Sí, 0 = No\n",
        "for col in enfermedades_cols:\n",
        "    df_ciclo[col] = df_ciclo[col].apply(lambda x: 1 if x==1 else 0)\n",
        "\n",
        "# Crear columna 'total_enfermedades' sumando todas las enfermedades\n",
        "df_ciclo['total_enfermedades'] = df_ciclo[enfermedades_cols].sum(axis=1)\n",
        "\n",
        "# Estadística descriptiva por ciclo de vida\n",
        "stats_ciclo = df_ciclo.groupby('ciclo_de_vida').agg(\n",
        "    n_personas=('total_enfermedades','count'),\n",
        "    promedio_enfermedades=('total_enfermedades','mean'),\n",
        "    total_enfermedades=('total_enfermedades','sum')\n",
        ").reset_index()\n",
        "\n",
        "print(stats_ciclo)\n",
        "\n",
        "# Gráfico: Boxplot de total de enfermedades por ciclo de vida\n",
        "plt.figure(figsize=(10,6))\n",
        "sns.boxplot(data=df_ciclo, x='ciclo_de_vida', y='total_enfermedades', palette='Set2')\n",
        "plt.title(\"Distribución de total de enfermedades por ciclo de vida\")\n",
        "plt.xlabel(\"Ciclo de vida\")\n",
        "plt.ylabel(\"Total de enfermedades por persona\")\n",
        "plt.xticks(rotation=45)\n",
        "plt.show()\n",
        "\n",
        "# Alternativa: Gráfico de barras con promedio de enfermedades por ciclo de vida\n",
        "plt.figure(figsize=(10,6))\n",
        "sns.barplot(data=stats_ciclo, x='ciclo_de_vida', y='promedio_enfermedades', palette='Set3')\n",
        "plt.title(\"Promedio de enfermedades por ciclo de vida\")\n",
        "plt.xlabel(\"Ciclo de vida\")\n",
        "plt.ylabel(\"Promedio de enfermedades\")\n",
        "plt.xticks(rotation=45)\n",
        "plt.show()"
      ],
      "metadata": {
        "id": "zwewjZ44NUBB"
      },
      "execution_count": null,
      "outputs": []
    },
    {
      "cell_type": "code",
      "source": [
        "# Lista de columnas de enfermedades\n",
        "enfermedades_cols = ['artritis','diabetes','hipertensi_n','epoc','asma',\n",
        "                     'insuficiencia_cardiaca','c_ncer','huerfanas_hemofilias_y_otras',\n",
        "                     'cirugia_cardiaca','trasplantados']\n",
        "\n",
        "# Convertir 1 = Sí, 2 = No → 1 y 0\n",
        "df_calc = df.copy()\n",
        "for col in enfermedades_cols:\n",
        "    df_calc[col] = df_calc[col].apply(lambda x: 1 if x==1 else 0)\n",
        "\n",
        "# Agrupar por sexo\n",
        "resumen_sexo = df_calc.groupby('sexo')[enfermedades_cols].agg(\n",
        "    total_personas=('artritis', 'count'),  # número total de registros por sexo\n",
        "    **{col+'_total': (col, 'sum') for col in enfermedades_cols},\n",
        "    **{col+'_promedio': (col, 'mean') for col in enfermedades_cols}\n",
        ").reset_index()\n",
        "\n",
        "# Redondear promedios\n",
        "for col in enfermedades_cols:\n",
        "    resumen_sexo[col+'_promedio'] = resumen_sexo[col+'_promedio'].round(2)\n",
        "\n",
        "resumen_sexo"
      ],
      "metadata": {
        "id": "aXfOYkHTODi7"
      },
      "execution_count": null,
      "outputs": []
    }
  ]
}